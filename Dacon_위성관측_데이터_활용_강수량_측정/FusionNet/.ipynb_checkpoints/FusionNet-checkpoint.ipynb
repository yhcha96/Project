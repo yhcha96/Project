{
 "cells": [
  {
   "cell_type": "code",
   "execution_count": null,
   "metadata": {
    "colab": {
     "base_uri": "https://localhost:8080/",
     "height": 35
    },
    "colab_type": "code",
    "id": "XQJQW28aLgnR",
    "outputId": "b7e1bcd2-94d5-49dc-b20b-e82d6a71a261"
   },
   "outputs": [
    {
     "name": "stdout",
     "output_type": "stream",
     "text": [
      "Drive already mounted at /content/drive; to attempt to forcibly remount, call drive.mount(\"/content/drive\", force_remount=True).\n"
     ]
    }
   ],
   "source": [
    "# 구글 드라이브 연동\n",
    "from google.colab import drive\n",
    "drive.mount('/content/drive')"
   ]
  },
  {
   "cell_type": "code",
   "execution_count": null,
   "metadata": {
    "colab": {
     "base_uri": "https://localhost:8080/",
     "height": 71
    },
    "colab_type": "code",
    "id": "DkUz9mddgtdv",
    "outputId": "2d615df8-2a20-42fe-951c-db7a843ecd58"
   },
   "outputs": [
    {
     "name": "stderr",
     "output_type": "stream",
     "text": [
      "/usr/local/lib/python3.6/dist-packages/statsmodels/tools/_testing.py:19: FutureWarning: pandas.util.testing is deprecated. Use the functions in the public API at pandas.testing instead.\n",
      "  import pandas.util.testing as tm\n",
      "Using TensorFlow backend.\n"
     ]
    }
   ],
   "source": [
    "import glob\n",
    "import pandas as pd\n",
    "import numpy as np\n",
    "import matplotlib.pylab as plt\n",
    "import seaborn as sns\n",
    "from tqdm import tqdm\n",
    "import tensorflow as tf\n",
    "import os\n",
    "import random\n",
    "# from tensorflow.keras.layers import Dense, Conv2D, Dropout, Conv2DTranspose, MaxPooling2D, BatchNormalization, Activation, concatenate, Input, GlobalAveragePooling2D\n",
    "from tensorflow.keras.layers import *\n",
    "from tensorflow.keras import Model\n",
    "import zipfile\n",
    "from tensorflow.keras.callbacks import ModelCheckpoint, EarlyStopping,ReduceLROnPlateau\n",
    "from sklearn.model_selection import train_test_split\n",
    "\n",
    "# from keras.models import Model,load_model\n",
    "# from keras.layers import *\n",
    "import keras\n",
    "\n",
    "\n",
    "import warnings\n",
    " \n",
    "warnings.filterwarnings(\"ignore\")"
   ]
  },
  {
   "cell_type": "code",
   "execution_count": null,
   "metadata": {
    "colab": {},
    "colab_type": "code",
    "id": "N93RvzvOgzvw"
   },
   "outputs": [],
   "source": [
    "# 재생산성을 위해 시드 고정\n",
    "np.random.seed(7)\n",
    "random.seed(7)\n",
    "tf.random.set_seed(7)"
   ]
  },
  {
   "cell_type": "code",
   "execution_count": null,
   "metadata": {
    "colab": {},
    "colab_type": "code",
    "id": "0-OmSpJrg2hD"
   },
   "outputs": [],
   "source": [
    "# 디렉토리 변경\n",
    "os.chdir('drive/My Drive/Colab Notebooks/Dacon/AIFrenz_Season2/')"
   ]
  },
  {
   "cell_type": "code",
   "execution_count": null,
   "metadata": {
    "colab": {
     "base_uri": "https://localhost:8080/",
     "height": 215
    },
    "colab_type": "code",
    "id": "lHBZW0vaymjf",
    "outputId": "cb4ab2f6-d92d-4f46-fa6a-5f3f0a062a3e"
   },
   "outputs": [
    {
     "data": {
      "text/plain": [
       "['./data/dacon_npy/train_data.npy',\n",
       " './data/dacon_npy/train_images.npy',\n",
       " './data/dacon_npy/test_data.npy',\n",
       " './data/dacon_npy/test_images.npy',\n",
       " './data/dacon_npy/train_labels.npy',\n",
       " './data/dacon_npy/train.npy',\n",
       " './data/dacon_npy/test.npy',\n",
       " './data/dacon_npy/onehot_train_data.npy',\n",
       " './data/dacon_npy/onehot_test_data.npy',\n",
       " './data/dacon_npy/test_refined.npy',\n",
       " './data/dacon_npy/train_refined.npy']"
      ]
     },
     "execution_count": 5,
     "metadata": {
      "tags": []
     },
     "output_type": "execute_result"
    }
   ],
   "source": [
    "files_name = glob.glob('./data/dacon_npy/*')\n",
    "files_name"
   ]
  },
  {
   "cell_type": "code",
   "execution_count": null,
   "metadata": {
    "colab": {
     "base_uri": "https://localhost:8080/",
     "height": 35
    },
    "colab_type": "code",
    "id": "dLSoQrzV0SLU",
    "outputId": "f7df878d-d576-4ce4-823e-6d960402e5f3"
   },
   "outputs": [
    {
     "data": {
      "text/plain": [
       "((76345, 40, 40, 9), (76345, 40, 40, 1))"
      ]
     },
     "execution_count": 6,
     "metadata": {
      "tags": []
     },
     "output_type": "execute_result"
    }
   ],
   "source": [
    "train = np.load('./data/dacon_npy/train_images.npy')\n",
    "label = np.load('./data/dacon_npy/train_labels.npy')\n",
    "train.shape, label.shape"
   ]
  },
  {
   "cell_type": "code",
   "execution_count": null,
   "metadata": {
    "colab": {},
    "colab_type": "code",
    "id": "8JLn_uR9Sju2"
   },
   "outputs": [],
   "source": [
    "# # 강수량 있는 픽셀 개수 세기\n",
    "label = np.load('./data/dacon_npy/train_labels.npy')\n",
    "count=[]\n",
    "for i in tqdm(label):\n",
    "  count.append((i>0).sum())"
   ]
  },
  {
   "cell_type": "code",
   "execution_count": null,
   "metadata": {
    "colab": {},
    "colab_type": "code",
    "id": "gbXWystpvkeb"
   },
   "outputs": [],
   "source": [
    "df = pd.DataFrame(count,columns=['num'])\n",
    "n50 = df['num'].value_counts().sort_values(ascending=False)[:50].sum()/sum(count)\n",
    "n100 = df['num'].value_counts().sort_values(ascending=False)[:100].sum()/sum(count)\n",
    "n200 = df['num'].value_counts().sort_values(ascending=False)[:200].sum()/sum(count)\n",
    "n50, n100, n200"
   ]
  },
  {
   "cell_type": "code",
   "execution_count": null,
   "metadata": {
    "colab": {
     "base_uri": "https://localhost:8080/",
     "height": 35
    },
    "colab_type": "code",
    "id": "OtWkRRiMlJ9K",
    "outputId": "9a16c15d-7868-47fd-cf4e-8d86a962f4ac"
   },
   "outputs": [
    {
     "data": {
      "text/plain": [
       "0.9949178073220251"
      ]
     },
     "execution_count": 7,
     "metadata": {
      "tags": []
     },
     "output_type": "execute_result"
    }
   ],
   "source": [
    "# nan 있는거 제거\n",
    "# 강수량 픽셀 n개 이하 제거\n",
    "num=[]\n",
    "n = 0\n",
    "for i in range(label.shape[0]):\n",
    "  if ((label[i]>=0).sum() > n) and ((label[i]<0).sum() <= 0):\n",
    "    num.append(i)\n",
    "\n",
    "len(num) / label.shape[0]"
   ]
  },
  {
   "cell_type": "code",
   "execution_count": null,
   "metadata": {
    "colab": {
     "base_uri": "https://localhost:8080/",
     "height": 35
    },
    "colab_type": "code",
    "id": "FByXsQu8jlGg",
    "outputId": "623bfb75-02a8-4e34-fdb7-8d62af32575d"
   },
   "outputs": [
    {
     "data": {
      "text/plain": [
       "((75957, 40, 40, 1), (75957, 40, 40, 9))"
      ]
     },
     "execution_count": 8,
     "metadata": {
      "tags": []
     },
     "output_type": "execute_result"
    }
   ],
   "source": [
    "label = label[num]\n",
    "train = train[num]\n",
    "\n",
    "label.shape, train.shape"
   ]
  },
  {
   "cell_type": "code",
   "execution_count": null,
   "metadata": {
    "colab": {
     "base_uri": "https://localhost:8080/",
     "height": 35
    },
    "colab_type": "code",
    "id": "4YNIFiiYlT0g",
    "outputId": "32a404ea-e496-4a45-9bde-645e9e230296"
   },
   "outputs": [
    {
     "data": {
      "text/plain": [
       "((74058, 40, 40, 9), (74058, 40, 40, 1), (1899, 40, 40, 9), (1899, 40, 40, 1))"
      ]
     },
     "execution_count": 9,
     "metadata": {
      "tags": []
     },
     "output_type": "execute_result"
    }
   ],
   "source": [
    "# train  7:3으로 나누기\n",
    "values = list(range(train.shape[0]))\n",
    "train_num, test_num = train_test_split(values, test_size=0.025)\n",
    "\n",
    "xTest = train[test_num]\n",
    "yTest = label[test_num]\n",
    "train = train[train_num]\n",
    "label = label[train_num]\n",
    "\n",
    "train.shape, label.shape, xTest.shape, yTest.shape"
   ]
  },
  {
   "cell_type": "markdown",
   "metadata": {
    "colab_type": "text",
    "id": "-Ruh9LNd1rGy"
   },
   "source": [
    "# 데이터 증식"
   ]
  },
  {
   "cell_type": "code",
   "execution_count": null,
   "metadata": {
    "colab": {},
    "colab_type": "code",
    "id": "t7Jt2uTn1i4L"
   },
   "outputs": [],
   "source": [
    "def data_generator(x_train, y_train):\n",
    "    rotate_X_90 = np.zeros_like(x_train)\n",
    "    rotate_Y_90 = np.zeros_like(y_train)\n",
    "\n",
    "    for j in range(rotate_X_90.shape[0]):\n",
    "        rotate_x=np.zeros([x_train.shape[1],x_train.shape[2],10])\n",
    "        rotate_y=np.zeros([x_train.shape[1],x_train.shape[2],1])\n",
    "        for i in range(10):\n",
    "            rotate_x[:,:,i]=np.rot90(x_train[j,:,:,i])\n",
    "        rotate_y[:,:,0]=np.rot90(y_train[j,:,:,0])\n",
    "\n",
    "        rotate_X_90[j,:,:,:] = rotate_x\n",
    "        rotate_Y_90[j,:,:,:] = rotate_y\n",
    "\n",
    "    rotate_X_180 = np.zeros_like(x_train)\n",
    "    rotate_Y_180 = np.zeros_like(y_train)\n",
    "\n",
    "    for j in range(rotate_X_180.shape[0]):\n",
    "        rotate_x=np.zeros([x_train.shape[1],x_train.shape[2],10])\n",
    "        rotate_y=np.zeros([x_train.shape[1],x_train.shape[2],1])\n",
    "        for i in range(10):\n",
    "            rotate_x[:,:,i]=np.rot90(x_train[j,:,:,i])\n",
    "            rotate_x[:,:,i]=np.rot90(rotate_x[:,:,i])\n",
    "        rotate_y[:,:,0]=np.rot90(y_train[j,:,:,0])\n",
    "        rotate_y[:,:,0]=np.rot90(rotate_y[:,:,0])\n",
    "\n",
    "        rotate_X_180[j,:,:,:] = rotate_x\n",
    "        rotate_Y_180[j,:,:,:] = rotate_y\n",
    "\n",
    "    rotate_X_270 = np.zeros_like(x_train)\n",
    "    rotate_Y_270 = np.zeros_like(y_train)\n",
    "\n",
    "    for j in range(rotate_X_270.shape[0]):\n",
    "        rotate_x=np.zeros([x_train.shape[1],x_train.shape[2],10])\n",
    "        rotate_y=np.zeros([x_train.shape[1],x_train.shape[2],1])\n",
    "        for i in range(10):\n",
    "            rotate_x[:,:,i]=np.rot90(x_train[j,:,:,i])\n",
    "            rotate_x[:,:,i]=np.rot90(rotate_x[:,:,i])\n",
    "            rotate_x[:,:,i]=np.rot90(rotate_x[:,:,i])\n",
    "        rotate_y[:,:,0]=np.rot90(y_train[j,:,:,0])\n",
    "        rotate_y[:,:,0]=np.rot90(rotate_y[:,:,0])\n",
    "        rotate_y[:,:,0]=np.rot90(rotate_y[:,:,0])\n",
    "\n",
    "        rotate_X_270[j,:,:,:] = rotate_x\n",
    "        rotate_Y_270[j,:,:,:] = rotate_y\n",
    "\n",
    "    x_train = np.concatenate((x_train, rotate_X_90, rotate_X_180, rotate_X_270), axis = 0)\n",
    "    y_train = np.concatenate((y_train, rotate_Y_90, rotate_Y_180, rotate_Y_270), axis = 0)\n",
    "    del rotate_X_90, rotate_X_180, rotate_X_270\n",
    "\n",
    "    x_T = np.zeros_like(x_train)\n",
    "    y_T = np.zeros_like(y_train)\n",
    "\n",
    "    for i in range(x_train.shape[0]):\n",
    "        for j in range(x_train.shape[3]):\n",
    "            x_T[i,:,:,j] = x_train[i,:,:,j].T\n",
    "        y_T[i,:,:,0] = y_train[i,:,:,0].T\n",
    "\n",
    "    x_train = np.concatenate((x_train, x_T), axis = 0)\n",
    "    y_train = np.concatenate((y_train, y_T), axis = 0)\n",
    "\n",
    "    del x_T,y_T\n",
    "    \n",
    "    return x_train, y_train"
   ]
  },
  {
   "cell_type": "markdown",
   "metadata": {
    "colab_type": "text",
    "id": "4YXDcQZE17j0"
   },
   "source": [
    "# 평가 함수"
   ]
  },
  {
   "cell_type": "code",
   "execution_count": null,
   "metadata": {
    "colab": {},
    "colab_type": "code",
    "id": "u0gcSdf6EL0H"
   },
   "outputs": [],
   "source": [
    "from sklearn.metrics import f1_score\n",
    "\n",
    "def mae(y_true, y_pred) :\n",
    "    \n",
    "    y_true, y_pred = np.array(y_true), np.array(y_pred)\n",
    "    \n",
    "    y_true = y_true.reshape(1, -1)[0]\n",
    "    \n",
    "    y_pred = y_pred.reshape(1, -1)[0]\n",
    "    \n",
    "    over_threshold = y_true >= 0.1\n",
    "    \n",
    "    return np.mean(np.abs(y_true[over_threshold] - y_pred[over_threshold]))\n",
    "\n",
    "def fscore(y_true, y_pred):\n",
    "    \n",
    "    y_true, y_pred = np.array(y_true), np.array(y_pred)\n",
    "    \n",
    "    y_true = y_true.reshape(1, -1)[0]\n",
    "    \n",
    "    y_pred = y_pred.reshape(1, -1)[0]\n",
    "    \n",
    "    remove_NAs = y_true >= 0\n",
    "    \n",
    "    y_true = np.where(y_true[remove_NAs] >= 0.1, 1, 0)\n",
    "    \n",
    "    y_pred = np.where(y_pred[remove_NAs] >= 0.1, 1, 0)\n",
    "    \n",
    "    return(f1_score(y_true, y_pred))\n",
    "\n",
    "def maeOverFscore(y_true, y_pred):\n",
    "    \n",
    "    return mae(y_true, y_pred) / (fscore(y_true, y_pred) + 1e-07)\n",
    "\n",
    "def fscore_keras(y_true, y_pred):\n",
    "    score = tf.py_function(func=fscore, inp=[y_true, y_pred], Tout=tf.float32, name='fscore_keras')\n",
    "    return score\n",
    "\n",
    "def maeOverFscore_keras(y_true, y_pred):\n",
    "    score = tf.py_function(func=maeOverFscore, inp=[y_true, y_pred], Tout=tf.float32,  name='custom_mse') \n",
    "    return score"
   ]
  },
  {
   "cell_type": "markdown",
   "metadata": {
    "colab_type": "text",
    "id": "T9IOlQQE1xgn"
   },
   "source": [
    "# 모델"
   ]
  },
  {
   "cell_type": "code",
   "execution_count": null,
   "metadata": {
    "colab": {
     "base_uri": "https://localhost:8080/",
     "height": 1000
    },
    "colab_type": "code",
    "id": "4AKAJFVuW18e",
    "outputId": "f5aa0a71-a3fe-4ed1-8926-763f70581496"
   },
   "outputs": [
    {
     "name": "stdout",
     "output_type": "stream",
     "text": [
      "Model: \"model\"\n",
      "__________________________________________________________________________________________________\n",
      "Layer (type)                    Output Shape         Param #     Connected to                     \n",
      "==================================================================================================\n",
      "input_1 (InputLayer)            [(None, 40, 40, 9)]  0                                            \n",
      "__________________________________________________________________________________________________\n",
      "conv2d (Conv2D)                 (None, 40, 40, 32)   2624        input_1[0][0]                    \n",
      "__________________________________________________________________________________________________\n",
      "batch_normalization (BatchNorma (None, 40, 40, 32)   128         conv2d[0][0]                     \n",
      "__________________________________________________________________________________________________\n",
      "activation (Activation)         (None, 40, 40, 32)   0           batch_normalization[0][0]        \n",
      "__________________________________________________________________________________________________\n",
      "conv2d_1 (Conv2D)               (None, 40, 40, 32)   9248        activation[0][0]                 \n",
      "__________________________________________________________________________________________________\n",
      "batch_normalization_1 (BatchNor (None, 40, 40, 32)   128         conv2d_1[0][0]                   \n",
      "__________________________________________________________________________________________________\n",
      "activation_1 (Activation)       (None, 40, 40, 32)   0           batch_normalization_1[0][0]      \n",
      "__________________________________________________________________________________________________\n",
      "spatial_dropout2d (SpatialDropo (None, 40, 40, 32)   0           activation_1[0][0]               \n",
      "__________________________________________________________________________________________________\n",
      "max_pooling2d (MaxPooling2D)    (None, 20, 20, 32)   0           spatial_dropout2d[0][0]          \n",
      "__________________________________________________________________________________________________\n",
      "conv2d_2 (Conv2D)               (None, 20, 20, 64)   18496       max_pooling2d[0][0]              \n",
      "__________________________________________________________________________________________________\n",
      "batch_normalization_2 (BatchNor (None, 20, 20, 64)   256         conv2d_2[0][0]                   \n",
      "__________________________________________________________________________________________________\n",
      "activation_2 (Activation)       (None, 20, 20, 64)   0           batch_normalization_2[0][0]      \n",
      "__________________________________________________________________________________________________\n",
      "conv2d_3 (Conv2D)               (None, 20, 20, 64)   36928       activation_2[0][0]               \n",
      "__________________________________________________________________________________________________\n",
      "batch_normalization_3 (BatchNor (None, 20, 20, 64)   256         conv2d_3[0][0]                   \n",
      "__________________________________________________________________________________________________\n",
      "activation_3 (Activation)       (None, 20, 20, 64)   0           batch_normalization_3[0][0]      \n",
      "__________________________________________________________________________________________________\n",
      "spatial_dropout2d_1 (SpatialDro (None, 20, 20, 64)   0           activation_3[0][0]               \n",
      "__________________________________________________________________________________________________\n",
      "max_pooling2d_1 (MaxPooling2D)  (None, 10, 10, 64)   0           spatial_dropout2d_1[0][0]        \n",
      "__________________________________________________________________________________________________\n",
      "conv2d_4 (Conv2D)               (None, 10, 10, 128)  73856       max_pooling2d_1[0][0]            \n",
      "__________________________________________________________________________________________________\n",
      "batch_normalization_4 (BatchNor (None, 10, 10, 128)  512         conv2d_4[0][0]                   \n",
      "__________________________________________________________________________________________________\n",
      "activation_4 (Activation)       (None, 10, 10, 128)  0           batch_normalization_4[0][0]      \n",
      "__________________________________________________________________________________________________\n",
      "conv2d_5 (Conv2D)               (None, 10, 10, 128)  147584      activation_4[0][0]               \n",
      "__________________________________________________________________________________________________\n",
      "batch_normalization_5 (BatchNor (None, 10, 10, 128)  512         conv2d_5[0][0]                   \n",
      "__________________________________________________________________________________________________\n",
      "activation_5 (Activation)       (None, 10, 10, 128)  0           batch_normalization_5[0][0]      \n",
      "__________________________________________________________________________________________________\n",
      "spatial_dropout2d_2 (SpatialDro (None, 10, 10, 128)  0           activation_5[0][0]               \n",
      "__________________________________________________________________________________________________\n",
      "up_sampling2d (UpSampling2D)    (None, 20, 20, 128)  0           spatial_dropout2d_2[0][0]        \n",
      "__________________________________________________________________________________________________\n",
      "concatenate (Concatenate)       (None, 20, 20, 192)  0           up_sampling2d[0][0]              \n",
      "                                                                 spatial_dropout2d_1[0][0]        \n",
      "__________________________________________________________________________________________________\n",
      "conv2d_6 (Conv2D)               (None, 20, 20, 64)   110656      concatenate[0][0]                \n",
      "__________________________________________________________________________________________________\n",
      "batch_normalization_6 (BatchNor (None, 20, 20, 64)   256         conv2d_6[0][0]                   \n",
      "__________________________________________________________________________________________________\n",
      "activation_6 (Activation)       (None, 20, 20, 64)   0           batch_normalization_6[0][0]      \n",
      "__________________________________________________________________________________________________\n",
      "conv2d_7 (Conv2D)               (None, 20, 20, 64)   36928       activation_6[0][0]               \n",
      "__________________________________________________________________________________________________\n",
      "batch_normalization_7 (BatchNor (None, 20, 20, 64)   256         conv2d_7[0][0]                   \n",
      "__________________________________________________________________________________________________\n",
      "activation_7 (Activation)       (None, 20, 20, 64)   0           batch_normalization_7[0][0]      \n",
      "__________________________________________________________________________________________________\n",
      "spatial_dropout2d_3 (SpatialDro (None, 20, 20, 64)   0           activation_7[0][0]               \n",
      "__________________________________________________________________________________________________\n",
      "up_sampling2d_1 (UpSampling2D)  (None, 40, 40, 64)   0           spatial_dropout2d_3[0][0]        \n",
      "__________________________________________________________________________________________________\n",
      "concatenate_1 (Concatenate)     (None, 40, 40, 96)   0           up_sampling2d_1[0][0]            \n",
      "                                                                 spatial_dropout2d[0][0]          \n",
      "__________________________________________________________________________________________________\n",
      "conv2d_8 (Conv2D)               (None, 40, 40, 32)   27680       concatenate_1[0][0]              \n",
      "__________________________________________________________________________________________________\n",
      "batch_normalization_8 (BatchNor (None, 40, 40, 32)   128         conv2d_8[0][0]                   \n",
      "__________________________________________________________________________________________________\n",
      "activation_8 (Activation)       (None, 40, 40, 32)   0           batch_normalization_8[0][0]      \n",
      "__________________________________________________________________________________________________\n",
      "conv2d_9 (Conv2D)               (None, 40, 40, 32)   9248        activation_8[0][0]               \n",
      "__________________________________________________________________________________________________\n",
      "batch_normalization_9 (BatchNor (None, 40, 40, 32)   128         conv2d_9[0][0]                   \n",
      "__________________________________________________________________________________________________\n",
      "activation_9 (Activation)       (None, 40, 40, 32)   0           batch_normalization_9[0][0]      \n",
      "__________________________________________________________________________________________________\n",
      "conv2d_10 (Conv2D)              (None, 40, 40, 1)    33          activation_9[0][0]               \n",
      "__________________________________________________________________________________________________\n",
      "activation_10 (Activation)      (None, 40, 40, 1)    0           conv2d_10[0][0]                  \n",
      "==================================================================================================\n",
      "Total params: 475,841\n",
      "Trainable params: 474,561\n",
      "Non-trainable params: 1,280\n",
      "__________________________________________________________________________________________________\n"
     ]
    }
   ],
   "source": [
    "def double_conv_layer(x, size, dropout=0.25, batch_norm=True):\n",
    "    conv=Conv2D(size,(3,3),padding='same')(x)\n",
    "    if(batch_norm==True):\n",
    "        conv=BatchNormalization(axis=3)(conv)\n",
    "\n",
    "    conv=Activation('relu')(conv)\n",
    "\n",
    "    conv=Conv2D(size,(3,3),padding='same')(conv)\n",
    "\n",
    "    if(batch_norm==True):\n",
    "        conv=BatchNormalization(axis=3)(conv)\n",
    "\n",
    "    conv=Activation('relu')(conv)\n",
    "\n",
    "    if(dropout!=0.0):\n",
    "        conv=SpatialDropout2D(dropout)(conv)\n",
    "\n",
    "    return conv\n",
    "\n",
    "def build_zf_unet(filters):\n",
    "    inputs=Input((40, 40, 9))\n",
    "\n",
    "    # 1\n",
    "    conv1=double_conv_layer(inputs, filters)\n",
    "    p1=MaxPooling2D(pool_size=(2,2))(conv1)\n",
    "    \n",
    "    # 2\n",
    "    conv2=double_conv_layer(p1, 2*filters)\n",
    "    p2=MaxPooling2D(pool_size=(2,2))(conv2)\n",
    "    \n",
    "    # 6\n",
    "    conv6=double_conv_layer(p2, 4*filters)\n",
    "    \n",
    "    # 10\n",
    "    up10=concatenate([UpSampling2D(size=(2,2))(conv6), conv2],axis=3)\n",
    "    conv10=double_conv_layer(up10,2*filters)\n",
    "    \n",
    "    # 11\n",
    "    up11=concatenate([UpSampling2D(size=(2,2))(conv10), conv1],axis=3)\n",
    "    conv11=double_conv_layer(up11,filters,0)\n",
    "    \n",
    "    # 12\n",
    "    convfinal=Conv2D(1,(1,1))(conv11)\n",
    "    convfinal=Activation('sigmoid')(convfinal)\n",
    "    \n",
    "    model = Model(inputs, convfinal)\n",
    "    return model\n",
    "\n",
    "model = build_zf_unet(32)\n",
    "model.summary()"
   ]
  },
  {
   "cell_type": "code",
   "execution_count": null,
   "metadata": {
    "colab": {
     "base_uri": "https://localhost:8080/",
     "height": 989
    },
    "colab_type": "code",
    "id": "cajCuQrixXMK",
    "outputId": "9b52bbf3-f01c-4243-96c1-b20029a6a189"
   },
   "outputs": [
    {
     "name": "stdout",
     "output_type": "stream",
     "text": [
      "Model: \"model_6\"\n",
      "_________________________________________________________________\n",
      "Layer (type)                 Output Shape              Param #   \n",
      "=================================================================\n",
      "input_6 (InputLayer)         [(None, 40, 40, 9)]       0         \n",
      "_________________________________________________________________\n",
      "conv2d_38 (Conv2D)           (None, 40, 40, 32)        2624      \n",
      "_________________________________________________________________\n",
      "batch_normalization_34 (Batc (None, 40, 40, 32)        128       \n",
      "_________________________________________________________________\n",
      "activation_38 (Activation)   (None, 40, 40, 32)        0         \n",
      "_________________________________________________________________\n",
      "conv2d_39 (Conv2D)           (None, 40, 40, 32)        9248      \n",
      "_________________________________________________________________\n",
      "batch_normalization_35 (Batc (None, 40, 40, 32)        128       \n",
      "_________________________________________________________________\n",
      "activation_39 (Activation)   (None, 40, 40, 32)        0         \n",
      "_________________________________________________________________\n",
      "spatial_dropout2d_13 (Spatia (None, 40, 40, 32)        0         \n",
      "_________________________________________________________________\n",
      "conv2d_40 (Conv2D)           (None, 40, 40, 64)        18496     \n",
      "_________________________________________________________________\n",
      "batch_normalization_36 (Batc (None, 40, 40, 64)        256       \n",
      "_________________________________________________________________\n",
      "activation_40 (Activation)   (None, 40, 40, 64)        0         \n",
      "_________________________________________________________________\n",
      "conv2d_41 (Conv2D)           (None, 40, 40, 64)        36928     \n",
      "_________________________________________________________________\n",
      "batch_normalization_37 (Batc (None, 40, 40, 64)        256       \n",
      "_________________________________________________________________\n",
      "activation_41 (Activation)   (None, 40, 40, 64)        0         \n",
      "_________________________________________________________________\n",
      "spatial_dropout2d_14 (Spatia (None, 40, 40, 64)        0         \n",
      "_________________________________________________________________\n",
      "conv2d_42 (Conv2D)           (None, 40, 40, 32)        18464     \n",
      "_________________________________________________________________\n",
      "batch_normalization_38 (Batc (None, 40, 40, 32)        128       \n",
      "_________________________________________________________________\n",
      "activation_42 (Activation)   (None, 40, 40, 32)        0         \n",
      "_________________________________________________________________\n",
      "conv2d_43 (Conv2D)           (None, 40, 40, 32)        9248      \n",
      "_________________________________________________________________\n",
      "batch_normalization_39 (Batc (None, 40, 40, 32)        128       \n",
      "_________________________________________________________________\n",
      "activation_43 (Activation)   (None, 40, 40, 32)        0         \n",
      "_________________________________________________________________\n",
      "conv2d_44 (Conv2D)           (None, 40, 40, 1)         33        \n",
      "_________________________________________________________________\n",
      "activation_44 (Activation)   (None, 40, 40, 1)         0         \n",
      "=================================================================\n",
      "Total params: 96,065\n",
      "Trainable params: 95,553\n",
      "Non-trainable params: 512\n",
      "_________________________________________________________________\n"
     ]
    }
   ],
   "source": [
    "def double_conv_layer(x, size, dropout=0.25, batch_norm=True):\n",
    "    conv=Conv2D(size,(3,3),padding='same')(x)\n",
    "    if(batch_norm==True):\n",
    "        conv=BatchNormalization(axis=3)(conv)\n",
    "\n",
    "    conv=Activation('relu')(conv)\n",
    "\n",
    "    conv=Conv2D(size,(3,3),padding='same')(conv)\n",
    "\n",
    "    if(batch_norm==True):\n",
    "        conv=BatchNormalization(axis=3)(conv)\n",
    "\n",
    "    conv=Activation('relu')(conv)\n",
    "\n",
    "    if(dropout!=0.0):\n",
    "        conv=SpatialDropout2D(dropout)(conv)\n",
    "\n",
    "    return conv\n",
    "\n",
    "def build_zf_unet(filters):\n",
    "    inputs=Input((40, 40, 9))\n",
    "\n",
    "    # 1\n",
    "    conv1=double_conv_layer(inputs, filters)\n",
    "    # p1=MaxPooling2D(pool_size=(1,1))(conv1)\n",
    "    \n",
    "    # 2\n",
    "    # conv2=double_conv_layer(p1, 2*filters)\n",
    "    # p2=MaxPooling2D(pool_size=(1,1))(conv2)\n",
    "    \n",
    "    # 6\n",
    "    conv6=double_conv_layer(conv1, 2*filters)\n",
    "    \n",
    "    # 10\n",
    "    # up10=concatenate([UpSampling2D(size=(1,1))(conv6), conv2],axis=3)\n",
    "    # conv10=double_conv_layer(up10,2*filters)\n",
    "    \n",
    "    # 11\n",
    "    # up11=concatenate([UpSampling2D(size=(1,1))(conv6), conv1],axis=3)\n",
    "    conv11=double_conv_layer(conv6,filters,0)\n",
    "    \n",
    "    # 12\n",
    "    convfinal=Conv2D(1,(1,1))(conv11)\n",
    "    convfinal=Activation('sigmoid')(convfinal)\n",
    "    \n",
    "    model = Model(inputs, convfinal)\n",
    "    return model\n",
    "\n",
    "model = build_zf_unet(32)\n",
    "model.summary()"
   ]
  },
  {
   "cell_type": "code",
   "execution_count": null,
   "metadata": {
    "colab": {},
    "colab_type": "code",
    "id": "R1292PdsIXh0"
   },
   "outputs": [],
   "source": [
    "model.compile(loss=\"mae\", optimizer=\"adam\", metrics=[maeOverFscore_keras, fscore_keras])"
   ]
  },
  {
   "cell_type": "code",
   "execution_count": null,
   "metadata": {
    "colab": {},
    "colab_type": "code",
    "id": "JX_QRU-z3uO1"
   },
   "outputs": [],
   "source": [
    "earlystopping = EarlyStopping(monitor='val_maeOverFscore_keras', patience=3, restore_best_weights=True)\n",
    "reduceLRP = ReduceLROnPlateau(monitor='val_maeOverFscore_keras', patience=3, factor=0.8)"
   ]
  },
  {
   "cell_type": "code",
   "execution_count": null,
   "metadata": {
    "colab": {
     "base_uri": "https://localhost:8080/",
     "height": 233
    },
    "colab_type": "code",
    "id": "d0v1OgSQ1OuB",
    "outputId": "55762ae0-9e94-485e-e309-4f8944cdcba5"
   },
   "outputs": [
    {
     "name": "stdout",
     "output_type": "stream",
     "text": [
      "Epoch 1/50\n",
      "579/579 [==============================] - 100s 172ms/step - loss: 0.1802 - maeOverFscore_keras: 4.6034 - fscore_keras: 0.5269 - val_loss: 0.1192 - val_maeOverFscore_keras: 3.1828 - val_fscore_keras: 0.5769 - lr: 0.0010\n",
      "Epoch 2/50\n",
      "579/579 [==============================] - 98s 169ms/step - loss: 0.1283 - maeOverFscore_keras: 2.7221 - fscore_keras: 0.6676 - val_loss: 0.3337 - val_maeOverFscore_keras: 6.2597 - val_fscore_keras: 0.2634 - lr: 0.0010\n",
      "Epoch 3/50\n",
      "579/579 [==============================] - 98s 169ms/step - loss: 0.1251 - maeOverFscore_keras: 2.5257 - fscore_keras: 0.7049 - val_loss: 0.1106 - val_maeOverFscore_keras: 2.5776 - val_fscore_keras: 0.6784 - lr: 0.0010\n",
      "Epoch 4/50\n",
      "579/579 [==============================] - 98s 168ms/step - loss: 0.1240 - maeOverFscore_keras: 2.4519 - fscore_keras: 0.7201 - val_loss: 0.1186 - val_maeOverFscore_keras: 3.6437 - val_fscore_keras: 0.5251 - lr: 0.0010\n",
      "Epoch 5/50\n",
      "579/579 [==============================] - 98s 169ms/step - loss: 0.1232 - maeOverFscore_keras: 2.4051 - fscore_keras: 0.7323 - val_loss: 0.1425 - val_maeOverFscore_keras: 3.7337 - val_fscore_keras: 0.4697 - lr: 0.0010\n",
      "Epoch 6/50\n",
      "579/579 [==============================] - 97s 168ms/step - loss: 0.1228 - maeOverFscore_keras: 2.3682 - fscore_keras: 0.7390 - val_loss: 0.2439 - val_maeOverFscore_keras: 5.3712 - val_fscore_keras: 0.3089 - lr: 0.0010\n"
     ]
    }
   ],
   "source": [
    "history=model.fit(train,label,\n",
    "                  epochs=50, batch_size=128,\n",
    "                  validation_data=(xTest, yTest),\n",
    "                  callbacks=[earlystopping,reduceLRP])\n",
    "\n",
    "# fusionNet : \n",
    "# fusionNet 40 : 2.9099"
   ]
  },
  {
   "cell_type": "code",
   "execution_count": null,
   "metadata": {
    "colab": {
     "base_uri": "https://localhost:8080/",
     "height": 265
    },
    "colab_type": "code",
    "id": "mqqdALCGwxI7",
    "outputId": "4cbc19c6-8c73-4eed-cb30-e85f9aafeaa3"
   },
   "outputs": [
    {
     "data": {
      "image/png": "[encoded data removed]",
      "text/plain": [
       "<Figure size 432x288 with 1 Axes>"
      ]
     },
     "metadata": {
      "needs_background": "light",
      "tags": []
     },
     "output_type": "display_data"
    }
   ],
   "source": [
    "plt.plot(history.history['loss'])\n",
    "plt.plot(history.history['val_loss'])\n",
    "plt.show()"
   ]
  },
  {
   "cell_type": "code",
   "execution_count": null,
   "metadata": {
    "colab": {},
    "colab_type": "code",
    "id": "5tC6nfKiIbMZ"
   },
   "outputs": [],
   "source": [
    "# test = np.load('./data/dacon_npy/test_refined.npy')\n",
    "# pred = model.predict(test[:,:,:,:9])\n",
    "\n",
    "# submission = pd.read_csv('./data/sample_submission.csv')\n",
    "# submission.iloc[:,1:] = pred.reshape(-1, 1600)\n",
    "# submission.to_csv('./final_FusionNet.csv', index = False)"
   ]
  },
  {
   "cell_type": "code",
   "execution_count": null,
   "metadata": {
    "colab": {},
    "colab_type": "code",
    "id": "84Bn6P-wR-Y9"
   },
   "outputs": [],
   "source": [
    "test = np.load('./data/dacon_npy/test.npy')"
   ]
  },
  {
   "cell_type": "code",
   "execution_count": null,
   "metadata": {
    "colab": {},
    "colab_type": "code",
    "id": "1tnypYRpxPYk"
   },
   "outputs": [],
   "source": [
    "def show_conv_layer(test_data,test_idx,num_layer):\n",
    "    img = test_data[test_idx,:,:,:9]\n",
    "    img_tensor = np.expand_dims(img,axis=0)\n",
    "\n",
    "    # 입력 텐서와 출력 텐서의 리스트로 모델 객체 만들기\n",
    "    layer_outputs = [layer.output for layer in model.layers[:num_layer]][1:]\n",
    "    activation_model = Model(inputs=model.input, outputs=layer_outputs)\n",
    "\n",
    "    # 예측 모드로 모델 실행\n",
    "    activations = activation_model.predict(img_tensor)\n",
    "\n",
    "    layer_names = []\n",
    "    for layer in model.layers[:num_layer]:\n",
    "        layer_names.append(layer.name)\n",
    "\n",
    "    images_per_row = 16\n",
    "\n",
    "    for layer_name , layer_activation in zip(layer_names,activations):\n",
    "        n_features = layer_activation.shape[-1]\n",
    "        size = layer_activation.shape[1]\n",
    "        n_cols = n_features // images_per_row\n",
    "        display_grid = np.zeros((size*n_cols,images_per_row*size))\n",
    "\n",
    "        for col in range(n_cols):\n",
    "            for row in range(images_per_row):\n",
    "                channel_image = layer_activation[0,:,:,col*images_per_row + row]\n",
    "                channel_image -= channel_image.mean()\n",
    "                channel_image /= channel_image.std()\n",
    "                channel_image *= 64\n",
    "                channel_image += 128\n",
    "                channel_image = np.clip(channel_image,0,255).astype('uint8')\n",
    "                display_grid[col*size:(col+1)*size,row*size:(row+1)*size] = channel_image\n",
    "\n",
    "        scale = 1. / size\n",
    "        plt.figure(figsize=(scale*display_grid.shape[1],scale*display_grid.shape[0]))\n",
    "        plt.title(layer_name)\n",
    "        plt.grid(False)\n",
    "        plt.imshow(display_grid,aspect='auto',cmap='viridis')\n",
    "    plt.show()"
   ]
  },
  {
   "cell_type": "code",
   "execution_count": null,
   "metadata": {
    "colab": {
     "base_uri": "https://localhost:8080/",
     "height": 1000
    },
    "colab_type": "code",
    "id": "ws-NjbtISF1u",
    "outputId": "57195672-907b-4ffa-d177-9b310ef2a08e"
   },
   "outputs": [],
   "source": [
    "num_layer = len(model.layers)\n",
    "test_idx = np.random.randint(2416)\n",
    "show_conv_layer(test,test_idx,num_layer)"
   ]
  }
 ],
 "metadata": {
  "accelerator": "GPU",
  "colab": {
   "collapsed_sections": [],
   "machine_shape": "hm",
   "name": "FusionNet",
   "provenance": []
  },
  "kernelspec": {
   "display_name": "Python 3",
   "language": "python",
   "name": "python3"
  },
  "language_info": {
   "codemirror_mode": {
    "name": "ipython",
    "version": 3
   },
   "file_extension": ".py",
   "mimetype": "text/x-python",
   "name": "python",
   "nbconvert_exporter": "python",
   "pygments_lexer": "ipython3",
   "version": "3.7.4"
  }
 },
 "nbformat": 4,
 "nbformat_minor": 1
}
