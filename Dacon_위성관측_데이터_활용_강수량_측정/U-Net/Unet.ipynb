{
 "cells": [
  {
   "cell_type": "code",
   "execution_count": null,
   "metadata": {
    "colab": {
     "base_uri": "https://localhost:8080/",
     "height": 35
    },
    "colab_type": "code",
    "id": "DMsSjwVpelql",
    "outputId": "80701e92-42d1-4423-ea18-c6aa0e633941"
   },
   "outputs": [
    {
     "name": "stdout",
     "output_type": "stream",
     "text": [
      "Drive already mounted at /content/drive; to attempt to forcibly remount, call drive.mount(\"/content/drive\", force_remount=True).\n"
     ]
    }
   ],
   "source": [
    "# 구글 드라이브 연동\n",
    "from google.colab import drive\n",
    "drive.mount('/content/drive')"
   ]
  },
  {
   "cell_type": "code",
   "execution_count": null,
   "metadata": {
    "colab": {
     "base_uri": "https://localhost:8080/",
     "height": 71
    },
    "colab_type": "code",
    "id": "q87djGgNerpM",
    "outputId": "8d667874-af5f-41b0-e188-78e852203ea3"
   },
   "outputs": [
    {
     "name": "stderr",
     "output_type": "stream",
     "text": [
      "/usr/local/lib/python3.6/dist-packages/statsmodels/tools/_testing.py:19: FutureWarning: pandas.util.testing is deprecated. Use the functions in the public API at pandas.testing instead.\n",
      "  import pandas.util.testing as tm\n",
      "Using TensorFlow backend.\n"
     ]
    }
   ],
   "source": [
    "import glob\n",
    "import pandas as pd\n",
    "import numpy as np\n",
    "import matplotlib.pylab as plt\n",
    "import seaborn as sns\n",
    "from tqdm import tqdm\n",
    "import tensorflow as tf\n",
    "import os\n",
    "import random\n",
    "# from tensorflow.keras.layers import Dense, Conv2D, Dropout, Conv2DTranspose, MaxPooling2D, BatchNormalization, Activation, concatenate, Input, GlobalAveragePooling2D\n",
    "from tensorflow.keras.layers import *\n",
    "from tensorflow.keras import Model\n",
    "from tensorflow.keras.preprocessing.image import ImageDataGenerator\n",
    "import zipfile\n",
    "from tensorflow.keras.callbacks import ModelCheckpoint, EarlyStopping\n",
    "from sklearn.model_selection import train_test_split\n",
    "# from keras.models import Model,load_model\n",
    "# from keras.layers import *\n",
    "import keras\n",
    "\n",
    "\n",
    "import warnings\n",
    " \n",
    "warnings.filterwarnings(\"ignore\")"
   ]
  },
  {
   "cell_type": "code",
   "execution_count": null,
   "metadata": {
    "colab": {},
    "colab_type": "code",
    "id": "4QTWYcLme6rj"
   },
   "outputs": [],
   "source": [
    "# 재생산성을 위해 시드 고정\n",
    "np.random.seed(7)\n",
    "random.seed(7)\n",
    "tf.random.set_seed(7)"
   ]
  },
  {
   "cell_type": "code",
   "execution_count": null,
   "metadata": {
    "colab": {},
    "colab_type": "code",
    "id": "x53EDU4ke8l8"
   },
   "outputs": [],
   "source": [
    "# 디렉토리 변경\n",
    "os.chdir('drive/My Drive/Colab Notebooks/Dacon/AIFrenz_Season2/')"
   ]
  },
  {
   "cell_type": "code",
   "execution_count": null,
   "metadata": {
    "colab": {
     "base_uri": "https://localhost:8080/",
     "height": 233
    },
    "colab_type": "code",
    "id": "V-Uw-ybRe9-k",
    "outputId": "31abf089-b964-4317-8518-d1f846ddeddb"
   },
   "outputs": [
    {
     "data": {
      "text/plain": [
       "['./data/dacon_npy/train_data.npy',\n",
       " './data/dacon_npy/train_images.npy',\n",
       " './data/dacon_npy/test_data.npy',\n",
       " './data/dacon_npy/test_images.npy',\n",
       " './data/dacon_npy/train_labels.npy',\n",
       " './data/dacon_npy/train.npy',\n",
       " './data/dacon_npy/test.npy',\n",
       " './data/dacon_npy/onehot_train_data.npy',\n",
       " './data/dacon_npy/onehot_test_data.npy',\n",
       " './data/dacon_npy/test_refined.npy',\n",
       " './data/dacon_npy/train_refined.npy',\n",
       " './data/dacon_npy/full_train_diff.npy']"
      ]
     },
     "execution_count": 5,
     "metadata": {
      "tags": []
     },
     "output_type": "execute_result"
    }
   ],
   "source": [
    "files_name = glob.glob('./data/dacon_npy/*')\n",
    "files_name"
   ]
  },
  {
   "cell_type": "code",
   "execution_count": null,
   "metadata": {
    "colab": {},
    "colab_type": "code",
    "id": "SU6O03kUfAQ5"
   },
   "outputs": [],
   "source": [
    "# data 불러오기\n",
    "# train = np.load('./data/dacon_npy/train_images.npy')\n",
    "# data = np.load('./data/dacon_npy/train_data.npy')\n",
    "# label = np.load('./data/dacon_npy/train_labels.npy')\n",
    "label = np.load('./data/dacon_npy/train_labels.npy')"
   ]
  },
  {
   "cell_type": "code",
   "execution_count": null,
   "metadata": {
    "colab": {
     "base_uri": "https://localhost:8080/",
     "height": 34
    },
    "colab_type": "code",
    "id": "wbMnOKKgLeNf",
    "outputId": "067947a5-0467-4c24-d3a3-ac50e69104dc"
   },
   "outputs": [
    {
     "name": "stdout",
     "output_type": "stream",
     "text": [
      "388 543756\n"
     ]
    }
   ],
   "source": [
    "# nan 개수 \n",
    "nan_count=[]\n",
    "for i in range(label.shape[0]):\n",
    "  num = (label[i,:,:,-1]<0).sum()\n",
    "  if num >0:\n",
    "    nan_count.append((label[i,:,:,-1]<0).sum())\n",
    "\n",
    "print(len(nan_count), sum(nan_count))"
   ]
  },
  {
   "cell_type": "code",
   "execution_count": null,
   "metadata": {
    "colab": {
     "base_uri": "https://localhost:8080/",
     "height": 301
    },
    "colab_type": "code",
    "id": "B0Xqm1M-ROiN",
    "outputId": "be5509f7-39a2-41b2-fd18-01191777408f"
   },
   "outputs": [
    {
     "name": "stderr",
     "output_type": "stream",
     "text": [
      "100%|██████████| 76345/76345 [00:00<00:00, 77276.92it/s]\n"
     ]
    },
    {
     "data": {
      "text/plain": [
       "<matplotlib.axes._subplots.AxesSubplot at 0x7fc117ff5780>"
      ]
     },
     "execution_count": 7,
     "metadata": {
      "tags": []
     },
     "output_type": "execute_result"
    },
    {
     "data": {
      "image/png": "[encoded data removed]",
      "text/plain": [
       "<Figure size 432x288 with 1 Axes>"
      ]
     },
     "metadata": {
      "needs_background": "light",
      "tags": []
     },
     "output_type": "display_data"
    }
   ],
   "source": [
    "# 강수량 있는 픽셀 개수 세기\n",
    "count=[]\n",
    "for i in tqdm(label):\n",
    "  # print((i>0).sum())\n",
    "  count.append((i>0).sum())\n",
    "\n",
    "df = pd.DataFrame(count,columns=['num'])\n",
    "df['num'].value_counts().sort_index().plot()"
   ]
  },
  {
   "cell_type": "code",
   "execution_count": null,
   "metadata": {
    "colab": {
     "base_uri": "https://localhost:8080/",
     "height": 233
    },
    "colab_type": "code",
    "id": "nTZMWmmHTbjc",
    "outputId": "d184003f-f7e0-4622-8347-54553223ff29"
   },
   "outputs": [
    {
     "data": {
      "text/plain": [
       "0       14421\n",
       "1        3647\n",
       "2        2354\n",
       "3        1705\n",
       "4        1455\n",
       "        ...  \n",
       "1580        2\n",
       "1583        1\n",
       "1585        1\n",
       "1589        1\n",
       "1597        1\n",
       "Name: num, Length: 1347, dtype: int64"
      ]
     },
     "execution_count": 8,
     "metadata": {
      "tags": []
     },
     "output_type": "execute_result"
    }
   ],
   "source": [
    "df['num'].value_counts().sort_index()#[:50].sum()"
   ]
  },
  {
   "cell_type": "code",
   "execution_count": null,
   "metadata": {
    "colab": {
     "base_uri": "https://localhost:8080/",
     "height": 35
    },
    "colab_type": "code",
    "id": "PmzL43dOR03l",
    "outputId": "3b1dc00a-774f-4d6d-8ba0-5ea7eafb11eb"
   },
   "outputs": [
    {
     "data": {
      "text/plain": [
       "(0.4062479533695723, 31015)"
      ]
     },
     "execution_count": 12,
     "metadata": {
      "tags": []
     },
     "output_type": "execute_result"
    }
   ],
   "source": [
    "df['num'].value_counts().sort_index()[49:].sum() / df['num'].value_counts().sum(), df['num'].value_counts().sort_index()[49:].sum() "
   ]
  },
  {
   "cell_type": "code",
   "execution_count": null,
   "metadata": {
    "colab": {
     "base_uri": "https://localhost:8080/",
     "height": 35
    },
    "colab_type": "code",
    "id": "yqtRrmn7fGMe",
    "outputId": "2cf0a6a0-dc1e-4b63-81fa-8e2259e4e650"
   },
   "outputs": [
    {
     "data": {
      "text/plain": [
       "30760"
      ]
     },
     "execution_count": 11,
     "metadata": {
      "tags": []
     },
     "output_type": "execute_result"
    }
   ],
   "source": [
    "# nan 있는거 제거\n",
    "# 강수량 픽셀 n개 이하 제거\n",
    "num=[]\n",
    "n = 50\n",
    "for i in range(label.shape[0]):\n",
    "  if ((label[i]>0).sum() >= n):# and ((label[i]<0).sum() <= 0):\n",
    "    num.append(i)\n",
    "\n",
    "len(num) / label.shape[0]\n",
    "len(num)"
   ]
  },
  {
   "cell_type": "code",
   "execution_count": null,
   "metadata": {
    "colab": {
     "base_uri": "https://localhost:8080/",
     "height": 35
    },
    "colab_type": "code",
    "id": "uWgAKxDM3CrN",
    "outputId": "7751f946-eca2-4f06-e57f-8ac183e96096"
   },
   "outputs": [
    {
     "data": {
      "text/plain": [
       "75957"
      ]
     },
     "execution_count": 10,
     "metadata": {
      "tags": []
     },
     "output_type": "execute_result"
    }
   ],
   "source": [
    "len(num)"
   ]
  },
  {
   "cell_type": "code",
   "execution_count": null,
   "metadata": {
    "colab": {},
    "colab_type": "code",
    "id": "3uOksmEKgBPw"
   },
   "outputs": [],
   "source": [
    "train = train[num]\n",
    "data = data[num]\n",
    "label = label[num]"
   ]
  },
  {
   "cell_type": "code",
   "execution_count": null,
   "metadata": {
    "colab": {
     "base_uri": "https://localhost:8080/",
     "height": 34
    },
    "colab_type": "code",
    "id": "4DbirJ1Vmxlf",
    "outputId": "4d405721-d8a3-4cfd-d3bb-63c6a6698503"
   },
   "outputs": [
    {
     "data": {
      "text/plain": [
       "((30465, 40, 40, 9), (30465, 40, 40, 1))"
      ]
     },
     "execution_count": 9,
     "metadata": {
      "tags": []
     },
     "output_type": "execute_result"
    }
   ],
   "source": [
    "train.shape, label.shape"
   ]
  },
  {
   "cell_type": "code",
   "execution_count": null,
   "metadata": {
    "colab": {},
    "colab_type": "code",
    "id": "nFyXBKoPDwcQ"
   },
   "outputs": [],
   "source": [
    "train = np.concatenate((train, label),axis=3)\n",
    "del label"
   ]
  },
  {
   "cell_type": "code",
   "execution_count": null,
   "metadata": {
    "colab": {},
    "colab_type": "code",
    "id": "waPNmq9Qlk7X"
   },
   "outputs": [],
   "source": [
    "img_datagen = ImageDataGenerator(rotation_range=60,\n",
    "                                 width_shift_range=0.4,\n",
    "                                 height_shift_range=0.4)\n",
    "\n",
    "genTrain = img_datagen.flow(train, batch_size=train.shape[0], shuffle=True)[0]\n",
    "genTrain2 = img_datagen.flow(train, batch_size=train.shape[0], shuffle=True)[0]\n",
    "genTrain3 = img_datagen.flow(train, batch_size=train.shape[0], shuffle=True)[0]"
   ]
  },
  {
   "cell_type": "code",
   "execution_count": null,
   "metadata": {
    "colab": {},
    "colab_type": "code",
    "id": "cD7AQBboEnZt"
   },
   "outputs": [],
   "source": [
    "genTrain = genTrain[:int(genTrain.shape[0]/2),:,:,:]\n",
    "gen = np.concatenate((genTrain, genTrain2), axis=0)\n",
    "del genTrain\n",
    "del genTrain2\n",
    "del genTrain3"
   ]
  },
  {
   "cell_type": "code",
   "execution_count": null,
   "metadata": {
    "colab": {},
    "colab_type": "code",
    "id": "UxapiBilD4yd"
   },
   "outputs": [],
   "source": [
    "train = np.concatenate((train, gen),axis=0)\n",
    "del gen"
   ]
  },
  {
   "cell_type": "code",
   "execution_count": null,
   "metadata": {
    "colab": {},
    "colab_type": "code",
    "id": "qgVNVVz3oV1i"
   },
   "outputs": [],
   "source": [
    "label = train[:,:,:,-1:]\n",
    "train = train[:,:,:,:9]"
   ]
  },
  {
   "cell_type": "code",
   "execution_count": null,
   "metadata": {
    "colab": {
     "base_uri": "https://localhost:8080/",
     "height": 35
    },
    "colab_type": "code",
    "id": "GkfHkUrZhEUL",
    "outputId": "f9baab4e-09a3-4e9c-ad50-2c098a1b0e51"
   },
   "outputs": [
    {
     "name": "stderr",
     "output_type": "stream",
     "text": [
      "100%|██████████| 41138/41138 [4:29:56<00:00,  2.54it/s]\n"
     ]
    }
   ],
   "source": [
    "for i in tqdm(range(train_data.shape[0])):\n",
    "  train_sub = np.concatenate((np.where((train_data[i]<100), 1,0).reshape(1,40,40,-1),\n",
    "                                  np.where((train_data[i]>=100)&(train_data[i]<200), 1,0).reshape(1,40,40,-1),\n",
    "                                  np.where((train_data[i]>=200)&(train_data[i]<300), 1,0).reshape(1,40,40,-1),\n",
    "                                  np.where((train_data[i]>=300), 1,0).reshape(1,40,40,-1),\n",
    "                                  train_data[i].reshape(1,40,40,-1)), axis=3)\n",
    "  if i==0:\n",
    "    train_onehot = train_sub\n",
    "  else:\n",
    "    train_onehot = np.concatenate((train_onehot, train_sub), axis=0)\n",
    "\n",
    "np.save(\"onehot_train_data.npy\",train_onehot)"
   ]
  },
  {
   "cell_type": "code",
   "execution_count": null,
   "metadata": {
    "colab": {
     "base_uri": "https://localhost:8080/",
     "height": 35
    },
    "colab_type": "code",
    "id": "6uky6uUNyRH9",
    "outputId": "91bbf73f-3d99-49ef-eb9c-bc704328a851"
   },
   "outputs": [
    {
     "name": "stderr",
     "output_type": "stream",
     "text": [
      "100%|██████████| 2416/2416 [01:07<00:00, 35.85it/s]\n"
     ]
    }
   ],
   "source": [
    "for i in tqdm(range(test_data.shape[0])):\n",
    "  test_sub = np.concatenate((np.where((test_data[i]<100), 1,0).reshape(1,40,40,-1),\n",
    "                                  np.where((test_data[i]>=100)&(test_data[i]<200), 1,0).reshape(1,40,40,-1),\n",
    "                                  np.where((test_data[i]>=200)&(test_data[i]<300), 1,0).reshape(1,40,40,-1),\n",
    "                                  np.where((test_data[i]>=300), 1,0).reshape(1,40,40,-1),\n",
    "                                  test_data[i].reshape(1,40,40,-1)), axis=3)\n",
    "  if i==0:\n",
    "    test_onehot = test_sub\n",
    "  else:\n",
    "    test_onehot = np.concatenate((test_onehot, test_sub), axis=0)\n",
    "\n",
    "np.save(\"onehot_test_data.npy\",test_onehot)"
   ]
  },
  {
   "cell_type": "code",
   "execution_count": null,
   "metadata": {
    "colab": {
     "base_uri": "https://localhost:8080/",
     "height": 35
    },
    "colab_type": "code",
    "id": "q8Ova60rxkg4",
    "outputId": "56370bb8-f981-4f9b-b3ef-1e29b3dc6185"
   },
   "outputs": [
    {
     "data": {
      "text/plain": [
       "(1, 40, 40, 205690)"
      ]
     },
     "execution_count": 26,
     "metadata": {
      "tags": []
     },
     "output_type": "execute_result"
    }
   ],
   "source": [
    "train_onehot.shape"
   ]
  },
  {
   "cell_type": "code",
   "execution_count": null,
   "metadata": {
    "colab": {
     "base_uri": "https://localhost:8080/",
     "height": 35
    },
    "colab_type": "code",
    "id": "s00yr1P5gFS1",
    "outputId": "e89c05b6-3327-43b3-ef52-338093f25765"
   },
   "outputs": [
    {
     "data": {
      "text/plain": [
       "((41138, 40, 40, 9), (41138, 40, 40, 1))"
      ]
     },
     "execution_count": 14,
     "metadata": {
      "tags": []
     },
     "output_type": "execute_result"
    }
   ],
   "source": [
    "train_img.shape, label.shape"
   ]
  },
  {
   "cell_type": "code",
   "execution_count": null,
   "metadata": {
    "colab": {
     "base_uri": "https://localhost:8080/",
     "height": 34
    },
    "colab_type": "code",
    "id": "41LHjM6egLTv",
    "outputId": "2477cb53-e5eb-4fc5-e5bd-2dab47069af0"
   },
   "outputs": [
    {
     "data": {
      "text/plain": [
       "(0.6999947480370788, 0.30000525196292116)"
      ]
     },
     "execution_count": 15,
     "metadata": {
      "tags": []
     },
     "output_type": "execute_result"
    }
   ],
   "source": [
    "# train  7:3으로 나누기\n",
    "values = list(range(train.shape[0]))\n",
    "train_num, test_num = train_test_split(values, test_size=0.3)\n",
    "\n",
    "len(train_num)/train.shape[0], len(test_num)/train.shape[0]"
   ]
  },
  {
   "cell_type": "code",
   "execution_count": null,
   "metadata": {
    "colab": {
     "base_uri": "https://localhost:8080/",
     "height": 87
    },
    "colab_type": "code",
    "id": "kmik_1f_gl2u",
    "outputId": "f9ed98d6-e127-4c06-f758-c3f1c95efbb8"
   },
   "outputs": [
    {
     "data": {
      "text/plain": [
       "((53313, 40, 40, 9),\n",
       " (53313, 40, 40, 1),\n",
       " (22849, 40, 40, 9),\n",
       " (22849, 40, 40, 1))"
      ]
     },
     "execution_count": 16,
     "metadata": {
      "tags": []
     },
     "output_type": "execute_result"
    }
   ],
   "source": [
    "xTest = train[test_num]\n",
    "yTest = label[test_num]\n",
    "train = train[train_num]\n",
    "label = label[train_num]\n",
    "\n",
    "train.shape, label.shape, xTest.shape, yTest.shape"
   ]
  },
  {
   "cell_type": "code",
   "execution_count": null,
   "metadata": {
    "colab": {},
    "colab_type": "code",
    "id": "YTegnL_JhZ_q"
   },
   "outputs": [],
   "source": [
    "def build_model(input_layer, start_neurons):\n",
    "    \n",
    "    # 40 x 40 -> 20 x 20\n",
    "    conv1 = Conv2D(start_neurons * 6, (3, 3), activation=\"relu\", padding=\"same\")(input_layer)\n",
    "    conv1 = Conv2D(start_neurons * 6, (3, 3), activation=\"relu\", padding=\"same\")(conv1)\n",
    "    pool1 = BatchNormalization()(conv1)\n",
    "    pool1 = MaxPooling2D((2, 2))(pool1)\n",
    "    pool1 = Dropout(0.25)(pool1)\n",
    "\n",
    "    # 20 x 20 -> 10 x 10\n",
    "    conv2 = Conv2D(start_neurons * 5, (3, 3), activation=\"relu\", padding=\"same\")(pool1)\n",
    "    conv2 = Conv2D(start_neurons * 5, (3, 3), activation=\"relu\", padding=\"same\")(conv2)\n",
    "    pool2 = BatchNormalization()(conv2)\n",
    "    pool2 = MaxPooling2D( (2, 2))(pool2)\n",
    "    pool2 = Dropout(0.25)(pool2)\n",
    "\n",
    "    # 10 x 10 \n",
    "    convm = Conv2D(start_neurons * 4, (3, 3), activation=\"relu\", padding=\"same\")(pool2)\n",
    "\n",
    "    # 10 x 10 -> 20 x 20\n",
    "    deconv2 = Conv2DTranspose(start_neurons * 3, (3, 3), strides=(2, 2), padding=\"same\")(convm)\n",
    "    uconv2 = concatenate([deconv2, conv2])\n",
    "    uconv2 = Dropout(0.25)(uconv2)\n",
    "    uconv2 = Conv2D(start_neurons * 3, (3, 3), activation=\"relu\", padding=\"same\")(uconv2)\n",
    "    uconv2 = Conv2D(start_neurons * 3, (3, 3), activation=\"relu\", padding=\"same\")(uconv2)\n",
    "    uconv2 = BatchNormalization()(uconv2)\n",
    "\n",
    "    # 20 x 20 -> 40 x 40\n",
    "    deconv1 = Conv2DTranspose(start_neurons * 2, (3, 3), strides=(2, 2), padding=\"same\")(uconv2)\n",
    "    uconv1 = concatenate([deconv1, conv1])\n",
    "    uconv1 = Dropout(0.25)(uconv1)\n",
    "    uconv1 = Conv2D(start_neurons * 2, (3, 3), activation=\"relu\", padding=\"same\")(uconv1)\n",
    "    uconv1 = Conv2D(start_neurons * 2, (3, 3), activation=\"relu\", padding=\"same\")(uconv1)\n",
    "    uconv1 = BatchNormalization()(uconv1)\n",
    "\n",
    "    uconv1 = Dropout(0.25)(uconv1)\n",
    "    output_layer = Conv2D(1, (1,1), padding=\"same\", activation='relu')(uconv1)\n",
    "    \n",
    "    return output_layer\n",
    "\n",
    "input_layer = Input((40, 40, 9))\n",
    "output_layer = build_model(input_layer, 32)"
   ]
  },
  {
   "cell_type": "code",
   "execution_count": null,
   "metadata": {
    "colab": {
     "base_uri": "https://localhost:8080/",
     "height": 1000
    },
    "colab_type": "code",
    "id": "pr_J5SgwhmtG",
    "outputId": "db8d35c6-e667-4d7c-fbff-de071e34cb7b"
   },
   "outputs": [
    {
     "name": "stdout",
     "output_type": "stream",
     "text": [
      "Model: \"model\"\n",
      "__________________________________________________________________________________________________\n",
      "Layer (type)                    Output Shape         Param #     Connected to                     \n",
      "==================================================================================================\n",
      "input_1 (InputLayer)            [(None, 40, 40, 9)]  0                                            \n",
      "__________________________________________________________________________________________________\n",
      "conv2d (Conv2D)                 (None, 40, 40, 192)  15744       input_1[0][0]                    \n",
      "__________________________________________________________________________________________________\n",
      "conv2d_1 (Conv2D)               (None, 40, 40, 192)  331968      conv2d[0][0]                     \n",
      "__________________________________________________________________________________________________\n",
      "batch_normalization (BatchNorma (None, 40, 40, 192)  768         conv2d_1[0][0]                   \n",
      "__________________________________________________________________________________________________\n",
      "max_pooling2d (MaxPooling2D)    (None, 20, 20, 192)  0           batch_normalization[0][0]        \n",
      "__________________________________________________________________________________________________\n",
      "dropout (Dropout)               (None, 20, 20, 192)  0           max_pooling2d[0][0]              \n",
      "__________________________________________________________________________________________________\n",
      "conv2d_2 (Conv2D)               (None, 20, 20, 160)  276640      dropout[0][0]                    \n",
      "__________________________________________________________________________________________________\n",
      "conv2d_3 (Conv2D)               (None, 20, 20, 160)  230560      conv2d_2[0][0]                   \n",
      "__________________________________________________________________________________________________\n",
      "batch_normalization_1 (BatchNor (None, 20, 20, 160)  640         conv2d_3[0][0]                   \n",
      "__________________________________________________________________________________________________\n",
      "max_pooling2d_1 (MaxPooling2D)  (None, 10, 10, 160)  0           batch_normalization_1[0][0]      \n",
      "__________________________________________________________________________________________________\n",
      "dropout_1 (Dropout)             (None, 10, 10, 160)  0           max_pooling2d_1[0][0]            \n",
      "__________________________________________________________________________________________________\n",
      "conv2d_4 (Conv2D)               (None, 10, 10, 128)  184448      dropout_1[0][0]                  \n",
      "__________________________________________________________________________________________________\n",
      "conv2d_transpose (Conv2DTranspo (None, 20, 20, 96)   110688      conv2d_4[0][0]                   \n",
      "__________________________________________________________________________________________________\n",
      "concatenate (Concatenate)       (None, 20, 20, 256)  0           conv2d_transpose[0][0]           \n",
      "                                                                 conv2d_3[0][0]                   \n",
      "__________________________________________________________________________________________________\n",
      "dropout_2 (Dropout)             (None, 20, 20, 256)  0           concatenate[0][0]                \n",
      "__________________________________________________________________________________________________\n",
      "conv2d_5 (Conv2D)               (None, 20, 20, 96)   221280      dropout_2[0][0]                  \n",
      "__________________________________________________________________________________________________\n",
      "conv2d_6 (Conv2D)               (None, 20, 20, 96)   83040       conv2d_5[0][0]                   \n",
      "__________________________________________________________________________________________________\n",
      "batch_normalization_2 (BatchNor (None, 20, 20, 96)   384         conv2d_6[0][0]                   \n",
      "__________________________________________________________________________________________________\n",
      "conv2d_transpose_1 (Conv2DTrans (None, 40, 40, 64)   55360       batch_normalization_2[0][0]      \n",
      "__________________________________________________________________________________________________\n",
      "concatenate_1 (Concatenate)     (None, 40, 40, 256)  0           conv2d_transpose_1[0][0]         \n",
      "                                                                 conv2d_1[0][0]                   \n",
      "__________________________________________________________________________________________________\n",
      "dropout_3 (Dropout)             (None, 40, 40, 256)  0           concatenate_1[0][0]              \n",
      "__________________________________________________________________________________________________\n",
      "conv2d_7 (Conv2D)               (None, 40, 40, 64)   147520      dropout_3[0][0]                  \n",
      "__________________________________________________________________________________________________\n",
      "conv2d_8 (Conv2D)               (None, 40, 40, 64)   36928       conv2d_7[0][0]                   \n",
      "__________________________________________________________________________________________________\n",
      "batch_normalization_3 (BatchNor (None, 40, 40, 64)   256         conv2d_8[0][0]                   \n",
      "__________________________________________________________________________________________________\n",
      "dropout_4 (Dropout)             (None, 40, 40, 64)   0           batch_normalization_3[0][0]      \n",
      "__________________________________________________________________________________________________\n",
      "conv2d_9 (Conv2D)               (None, 40, 40, 1)    65          dropout_4[0][0]                  \n",
      "==================================================================================================\n",
      "Total params: 1,696,289\n",
      "Trainable params: 1,695,265\n",
      "Non-trainable params: 1,024\n",
      "__________________________________________________________________________________________________\n"
     ]
    }
   ],
   "source": [
    "model = Model(input_layer, output_layer)\n",
    "model.summary()"
   ]
  },
  {
   "cell_type": "code",
   "execution_count": null,
   "metadata": {
    "colab": {},
    "colab_type": "code",
    "id": "LGYpHf6thtPz"
   },
   "outputs": [],
   "source": [
    "from sklearn.metrics import f1_score\n",
    "\n",
    "def mae(y_true, y_pred) :\n",
    "    \n",
    "    y_true, y_pred = np.array(y_true), np.array(y_pred)\n",
    "    \n",
    "    y_true = y_true.reshape(1, -1)[0]\n",
    "    \n",
    "    y_pred = y_pred.reshape(1, -1)[0]\n",
    "    \n",
    "    over_threshold = y_true >= 0.1\n",
    "    \n",
    "    return np.mean(np.abs(y_true[over_threshold] - y_pred[over_threshold]))\n",
    "\n",
    "def fscore(y_true, y_pred):\n",
    "    \n",
    "    y_true, y_pred = np.array(y_true), np.array(y_pred)\n",
    "    \n",
    "    y_true = y_true.reshape(1, -1)[0]\n",
    "    \n",
    "    y_pred = y_pred.reshape(1, -1)[0]\n",
    "    \n",
    "    remove_NAs = y_true >= 0\n",
    "    \n",
    "    y_true = np.where(y_true[remove_NAs] >= 0.1, 1, 0)\n",
    "    \n",
    "    y_pred = np.where(y_pred[remove_NAs] >= 0.1, 1, 0)\n",
    "    \n",
    "    return(f1_score(y_true, y_pred))\n",
    "\n",
    "def maeOverFscore(y_true, y_pred):\n",
    "    \n",
    "    return mae(y_true, y_pred) / (fscore(y_true, y_pred) + 1e-07)\n",
    "\n",
    "def fscore_keras(y_true, y_pred):\n",
    "    score = tf.py_function(func=fscore, inp=[y_true, y_pred], Tout=tf.float32, name='fscore_keras')\n",
    "    return score\n",
    "\n",
    "def maeOverFscore_keras(y_true, y_pred):\n",
    "    score = tf.py_function(func=maeOverFscore, inp=[y_true, y_pred], Tout=tf.float32,  name='custom_mse') \n",
    "    return score"
   ]
  },
  {
   "cell_type": "code",
   "execution_count": null,
   "metadata": {
    "colab": {},
    "colab_type": "code",
    "id": "c5VZReJShyQK"
   },
   "outputs": [],
   "source": [
    "# modelPath=\"./Model/{epoch:02d}-{val_loss:.4f}.hdf5\"\n",
    "# checkpoint = ModelCheckpoint(filepath = modelPath, monitor='val_loss', verbose=1,save_best_only=True)\n",
    "earlystopping = EarlyStopping(patience=5)"
   ]
  },
  {
   "cell_type": "code",
   "execution_count": null,
   "metadata": {
    "colab": {},
    "colab_type": "code",
    "id": "ZgbW14iyh5Dj"
   },
   "outputs": [],
   "source": [
    "model.compile(loss=\"mae\", optimizer=\"adam\", metrics=[maeOverFscore_keras, fscore_keras])"
   ]
  },
  {
   "cell_type": "code",
   "execution_count": null,
   "metadata": {
    "colab": {
     "base_uri": "https://localhost:8080/",
     "height": 89
    },
    "colab_type": "code",
    "id": "Zwc48lfDBAlc",
    "outputId": "79dfe435-909a-47d2-89bd-ab876f0da404"
   },
   "outputs": [
    {
     "data": {
      "text/plain": [
       "((42651, 40, 40, 5),\n",
       " (42651, 40, 40, 1),\n",
       " (18279, 40, 40, 5),\n",
       " (18279, 40, 40, 1))"
      ]
     },
     "execution_count": 26,
     "metadata": {
      "tags": []
     },
     "output_type": "execute_result"
    }
   ],
   "source": [
    "# ###\n",
    "# train = train[:,:,:,[2,3,4,5,6]]\n",
    "# xTest = xTest[:,:,:,[2,3,4,5,6]]\n",
    "\n",
    "\n",
    "# train.shape, label.shape, xTest.shape, yTest.shape"
   ]
  },
  {
   "cell_type": "code",
   "execution_count": null,
   "metadata": {
    "colab": {
     "base_uri": "https://localhost:8080/",
     "height": 192
    },
    "colab_type": "code",
    "id": "rBMJL6-dh8_k",
    "outputId": "2ce3ed0c-ff10-4173-8765-9d0eb70b8af5"
   },
   "outputs": [
    {
     "name": "stdout",
     "output_type": "stream",
     "text": [
      "Epoch 1/50\n",
      "209/209 [==============================] - 208s 994ms/step - loss: 0.3186 - maeOverFscore_keras: 3.4414 - fscore_keras: 0.5213 - val_loss: 0.3030 - val_maeOverFscore_keras: 4.3855 - val_fscore_keras: 0.3826\n",
      "Epoch 2/50\n",
      "209/209 [==============================] - 205s 983ms/step - loss: 0.2582 - maeOverFscore_keras: 2.2198 - fscore_keras: 0.6260 - val_loss: 0.2610 - val_maeOverFscore_keras: 2.7159 - val_fscore_keras: 0.5255\n",
      "Epoch 3/50\n",
      "209/209 [==============================] - 207s 990ms/step - loss: 0.2476 - maeOverFscore_keras: 2.0183 - fscore_keras: 0.6597 - val_loss: 0.2664 - val_maeOverFscore_keras: 3.0183 - val_fscore_keras: 0.4858\n",
      "Epoch 4/50\n",
      "209/209 [==============================] - 207s 993ms/step - loss: 0.2426 - maeOverFscore_keras: 1.9190 - fscore_keras: 0.6798 - val_loss: 0.2597 - val_maeOverFscore_keras: 2.6321 - val_fscore_keras: 0.5389\n",
      "Epoch 5/50\n",
      " 46/209 [=====>........................] - ETA: 2:07 - loss: 0.2449 - maeOverFscore_keras: 1.8878 - fscore_keras: 0.6910"
     ]
    }
   ],
   "source": [
    "model_history = model.fit(train, label,\n",
    "                          epochs = 50, batch_size=256, verbose=1,\n",
    "                          validation_data=(xTest, yTest),\n",
    "                          callbacks=[earlystopping])"
   ]
  },
  {
   "cell_type": "code",
   "execution_count": null,
   "metadata": {
    "colab": {},
    "colab_type": "code",
    "id": "Bf0vWtLOtsOQ"
   },
   "outputs": [],
   "source": [
    "test = np.load('./data/dacon_npy/test_images.npy')"
   ]
  },
  {
   "cell_type": "code",
   "execution_count": null,
   "metadata": {
    "colab": {},
    "colab_type": "code",
    "id": "fB05vXQZkCOZ"
   },
   "outputs": [],
   "source": [
    "pred = model.predict(test)\n",
    "submission = pd.read_csv('./data/sample_submission.csv')\n",
    "submission.iloc[:,1:] = pred.reshape(-1, 1600)\n",
    "submission.to_csv('./f1.csv', index = False)"
   ]
  },
  {
   "cell_type": "code",
   "execution_count": null,
   "metadata": {
    "colab": {},
    "colab_type": "code",
    "id": "Ofd0ZNiZhMC0"
   },
   "outputs": [],
   "source": []
  }
 ],
 "metadata": {
  "colab": {
   "collapsed_sections": [],
   "name": "Unet",
   "provenance": []
  },
  "kernelspec": {
   "display_name": "Python 3",
   "language": "python",
   "name": "python3"
  },
  "language_info": {
   "codemirror_mode": {
    "name": "ipython",
    "version": 3
   },
   "file_extension": ".py",
   "mimetype": "text/x-python",
   "name": "python",
   "nbconvert_exporter": "python",
   "pygments_lexer": "ipython3",
   "version": "3.7.4"
  }
 },
 "nbformat": 4,
 "nbformat_minor": 1
}
